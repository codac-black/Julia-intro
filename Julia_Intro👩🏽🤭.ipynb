{
 "cells": [
  {
   "attachments": {},
   "cell_type": "markdown",
   "id": "945d2557",
   "metadata": {},
   "source": [
    "### JULIA INTRO `PART1`🤡🤡"
   ]
  },
  {
   "cell_type": "markdown",
   "id": "d26a6607",
   "metadata": {},
   "source": [
    "### Variables \n",
    "1. A variable, in Julia, is a name associated (or bound) to a value. It's useful when you want to store a value (that you obtained after some math, for example) for later use.\n",
    "2. Variables are also used with various data types such  as: \n",
    "    - Bool\n",
    "    - Int\n",
    "    - Float\n",
    "    - Strings\n",
    "    - Char"
   ]
  },
  {
   "cell_type": "code",
   "execution_count": 1,
   "id": "288aae74",
   "metadata": {},
   "outputs": [
    {
     "data": {
      "text/plain": [
       "100.0"
      ]
     },
     "execution_count": 1,
     "metadata": {},
     "output_type": "execute_result"
    }
   ],
   "source": [
    "height = 10\n",
    "base = 20\n",
    "area = 1/2 * (base * height)\n",
    "area"
   ]
  },
  {
   "cell_type": "code",
   "execution_count": 2,
   "id": "9dca9ca1",
   "metadata": {},
   "outputs": [
    {
     "data": {
      "text/plain": [
       "\"123ghs,\""
      ]
     },
     "execution_count": 2,
     "metadata": {},
     "output_type": "execute_result"
    }
   ],
   "source": [
    "name = \"Mike\"\n",
    "password = \"123ghs,\"\n",
    "name\n",
    "password"
   ]
  },
  {
   "cell_type": "code",
   "execution_count": 3,
   "id": "2c9972ba",
   "metadata": {},
   "outputs": [
    {
     "data": {
      "text/plain": [
       "2.34"
      ]
     },
     "execution_count": 3,
     "metadata": {},
     "output_type": "execute_result"
    }
   ],
   "source": [
    "decimal = 2.34"
   ]
  },
  {
   "cell_type": "code",
   "execution_count": 4,
   "id": "2f9b83c7",
   "metadata": {},
   "outputs": [
    {
     "data": {
      "text/plain": [
       "234"
      ]
     },
     "execution_count": 4,
     "metadata": {},
     "output_type": "execute_result"
    }
   ],
   "source": [
    "integer = 234"
   ]
  },
  {
   "cell_type": "code",
   "execution_count": 5,
   "id": "0146fd5e",
   "metadata": {},
   "outputs": [
    {
     "data": {
      "text/plain": [
       "true"
      ]
     },
     "execution_count": 5,
     "metadata": {},
     "output_type": "execute_result"
    }
   ],
   "source": [
    "bloolean = true"
   ]
  },
  {
   "cell_type": "code",
   "execution_count": 6,
   "id": "9dea7c90",
   "metadata": {},
   "outputs": [
    {
     "name": "stdout",
     "output_type": "stream",
     "text": [
      "a\n"
     ]
    }
   ],
   "source": [
    "vowel = 'a'\n",
    "println(vowel)"
   ]
  },
  {
   "cell_type": "markdown",
   "id": "c64aef85",
   "metadata": {},
   "source": [
    "### Checking the data type of a variable🧐"
   ]
  },
  {
   "cell_type": "code",
   "execution_count": 7,
   "id": "26c344f1",
   "metadata": {},
   "outputs": [
    {
     "data": {
      "text/plain": [
       "String"
      ]
     },
     "execution_count": 7,
     "metadata": {},
     "output_type": "execute_result"
    }
   ],
   "source": [
    "name = \"Mario\"\n",
    "typeof(name)"
   ]
  },
  {
   "cell_type": "code",
   "execution_count": 8,
   "id": "e24c0621",
   "metadata": {},
   "outputs": [
    {
     "data": {
      "text/plain": [
       "Int64"
      ]
     },
     "execution_count": 8,
     "metadata": {},
     "output_type": "execute_result"
    }
   ],
   "source": [
    "age = 22\n",
    "typeof(age)"
   ]
  },
  {
   "cell_type": "markdown",
   "id": "a4ce12c3",
   "metadata": {},
   "source": [
    "### Checking the system arch"
   ]
  },
  {
   "cell_type": "code",
   "execution_count": 9,
   "id": "be53020b",
   "metadata": {},
   "outputs": [
    {
     "data": {
      "text/plain": [
       "64"
      ]
     },
     "execution_count": 9,
     "metadata": {},
     "output_type": "execute_result"
    }
   ],
   "source": [
    "Sys.WORD_SIZE"
   ]
  },
  {
   "cell_type": "markdown",
   "id": "6c006b6e",
   "metadata": {},
   "source": [
    "### Mathematical Operations and Elementary Functions\n",
    "They include :\n",
    "1. Arithmetic Operators\n",
    "    - + : Addition\n",
    "    - - : Subtraction\n",
    "    - * : Multiplication\n",
    "    - / : Division\n",
    "    - \\ : Inverse division\n",
    "    - ^ : Power\n",
    "    - % : Modulo\n",
    "    - +x : unary plus\n",
    "    - -Y : unary minus\n",
    "    ```julia\n",
    "        age  = 20 \n",
    "        age+2\n",
    "        print(age) #prints out 22\n",
    "    ```\n",
    "2. Boolean Operators\n",
    "    - ! : NOT\n",
    "    - && : AND\n",
    "    - || : OR\n",
    "\n",
    "3. Bitwise Operators\n",
    "    - ~ : NOT\n",
    "    - & : AND\n",
    "    - | : OR\n",
    "    - (>>) : logical shift right\n",
    "    - ⊻ : XOR\n",
    "    - << : arithmetic shift right\n",
    "    - << : logical/arithmetic shift left\n",
    "4. Numeric Comparison\n",
    "    - == : equality\n",
    "    - != : inequality\n",
    "    - <  : less than\n",
    "    - (>) : greater than\n",
    "    - <= : less than or equal to\n",
    "    - (>=) : greater than or equal to\n",
    "    \n",
    "    "
   ]
  },
  {
   "cell_type": "code",
   "execution_count": 10,
   "id": "e4502dea",
   "metadata": {},
   "outputs": [
    {
     "data": {
      "text/plain": [
       "21"
      ]
     },
     "execution_count": 10,
     "metadata": {},
     "output_type": "execute_result"
    }
   ],
   "source": [
    "age = 20\n",
    "age + 1"
   ]
  },
  {
   "cell_type": "code",
   "execution_count": 11,
   "id": "1be140cc",
   "metadata": {},
   "outputs": [
    {
     "data": {
      "text/plain": [
       "19"
      ]
     },
     "execution_count": 11,
     "metadata": {},
     "output_type": "execute_result"
    }
   ],
   "source": [
    "age -1"
   ]
  },
  {
   "cell_type": "code",
   "execution_count": 12,
   "id": "e773cf95",
   "metadata": {},
   "outputs": [
    {
     "data": {
      "text/plain": [
       "22"
      ]
     },
     "execution_count": 12,
     "metadata": {},
     "output_type": "execute_result"
    }
   ],
   "source": [
    "age +2"
   ]
  },
  {
   "cell_type": "code",
   "execution_count": 13,
   "id": "c7f55885",
   "metadata": {},
   "outputs": [
    {
     "name": "stdout",
     "output_type": "stream",
     "text": [
      "2002"
     ]
    }
   ],
   "source": [
    "current_year = 2022\n",
    "birth_year = years = current_year - age\n",
    "print(birth_year)"
   ]
  },
  {
   "cell_type": "code",
   "execution_count": 14,
   "id": "83c0460e",
   "metadata": {},
   "outputs": [
    {
     "name": "stdout",
     "output_type": "stream",
     "text": [
      "2002\n"
     ]
    }
   ],
   "source": [
    "println(birth_year)\n"
   ]
  },
  {
   "cell_type": "code",
   "execution_count": 15,
   "id": "b03bf403",
   "metadata": {},
   "outputs": [
    {
     "name": "stdout",
     "output_type": "stream",
     "text": [
      "\u001b[38;5;104m2002\u001b[39m"
     ]
    }
   ],
   "source": [
    "printstyled(birth_year,color=104)"
   ]
  },
  {
   "cell_type": "code",
   "execution_count": 16,
   "id": "f83e24bb",
   "metadata": {},
   "outputs": [
    {
     "name": "stdout",
     "output_type": "stream",
     "text": [
      "Welcome 😎😎\n"
     ]
    }
   ],
   "source": [
    "name = \"John Doe\"\n",
    "password = \"johnnie1234\"\n",
    "if(name==\"John Doe\" && password==\"johnnie1234\")\n",
    "    println(\"Welcome 😎😎\")\n",
    "else\n",
    "    println(\"🔫🔫\")\n",
    "end"
   ]
  },
  {
   "cell_type": "markdown",
   "id": "3b8763ce",
   "metadata": {},
   "source": [
    "###  Vectorized \"dot\" operators"
   ]
  },
  {
   "cell_type": "code",
   "execution_count": 17,
   "id": "15b5fbb6",
   "metadata": {},
   "outputs": [
    {
     "name": "stdout",
     "output_type": "stream",
     "text": [
      "[1, 8, 27, 64, 125]"
     ]
    }
   ],
   "source": [
    "array = [1,2,3,4,5].^3\n",
    "print(array)"
   ]
  },
  {
   "attachments": {},
   "cell_type": "markdown",
   "id": "6326ec49",
   "metadata": {},
   "source": [
    "**Julia provides additional functions to test numbers for special values, which can be useful in situations like\n",
    "hash key comparisons:**\n",
    "\n",
    "| Function       | Tests if\n",
    "| ---------      | ---------\n",
    "| isequal(x, y)  | x and y are identical\n",
    "| isfinite(x)    | x is a finite number\n",
    "| isinf(x)       | x is infinite\n",
    "| isnan(x)       | x is not a numbe"
   ]
  },
  {
   "cell_type": "code",
   "execution_count": 18,
   "id": "242814a8",
   "metadata": {},
   "outputs": [
    {
     "data": {
      "text/plain": [
       "false"
      ]
     },
     "execution_count": 18,
     "metadata": {},
     "output_type": "execute_result"
    }
   ],
   "source": [
    "isequal(NaN,\"Nan\")"
   ]
  },
  {
   "cell_type": "code",
   "execution_count": 19,
   "id": "8357fb1c",
   "metadata": {},
   "outputs": [
    {
     "data": {
      "text/plain": [
       "true"
      ]
     },
     "execution_count": 19,
     "metadata": {},
     "output_type": "execute_result"
    }
   ],
   "source": [
    "isequal(10,10)"
   ]
  },
  {
   "cell_type": "markdown",
   "id": "fbae3c6e",
   "metadata": {},
   "source": [
    "#### Rounding functions\n",
    "\n",
    "|Function     |Description                      |Return type |\n",
    "|----------   |-----------------                |------------|\n",
    "|round(x)     |round x to the nearest integer   |typeof(x)   |\n",
    "|round(T, x)  |round x to the nearest integer   |T           |\n",
    "|floor(x)     |round x towards -Inf             |typeof(x)   | \n",
    "|floor(T, x)  |round x towards -Inf             |T           |\n",
    "|ceil(x)      |round x towards +Inf             |typeof(x)   |\n",
    "|ceil(T, x)   |round x towards +Inf             |T           |\n",
    "|trunc(x)     |round x towards zero             |typeof(x)   | \n",
    "|trunc(T, x)  |round x towards zero             |T           |"
   ]
  },
  {
   "cell_type": "markdown",
   "id": "f5911e56",
   "metadata": {},
   "source": [
    "#### Strings Basics"
   ]
  },
  {
   "cell_type": "code",
   "execution_count": 20,
   "id": "dbd17ccd",
   "metadata": {},
   "outputs": [
    {
     "data": {
      "text/plain": [
       "\"Hello Julia😊\""
      ]
     },
     "execution_count": 20,
     "metadata": {},
     "output_type": "execute_result"
    }
   ],
   "source": [
    "str = \"Hello Julia😊\""
   ]
  },
  {
   "cell_type": "code",
   "execution_count": 21,
   "id": "8e343132",
   "metadata": {},
   "outputs": [
    {
     "data": {
      "text/plain": [
       "\"Some Quoted strings\""
      ]
     },
     "execution_count": 21,
     "metadata": {},
     "output_type": "execute_result"
    }
   ],
   "source": [
    "quotes = \"\"\"Some Quoted strings\"\"\""
   ]
  },
  {
   "cell_type": "code",
   "execution_count": 22,
   "id": "f362b1ee",
   "metadata": {},
   "outputs": [
    {
     "data": {
      "text/plain": [
       "\"The big bad wolf jumped over the lazy sheep\""
      ]
     },
     "execution_count": 22,
     "metadata": {},
     "output_type": "execute_result"
    }
   ],
   "source": [
    "#Long lines in strings can be broken up by preceding the newline with a backslash (\\):\n",
    "long_sentence  = \"The big bad wolf jumped over \\\n",
    "the lazy sheep\""
   ]
  },
  {
   "cell_type": "markdown",
   "id": "33ace7f5",
   "metadata": {},
   "source": [
    "####  *If you want to extract a character from a string, you index into it*"
   ]
  },
  {
   "cell_type": "code",
   "execution_count": 23,
   "id": "8d527055",
   "metadata": {},
   "outputs": [
    {
     "data": {
      "text/plain": [
       "'H': ASCII/Unicode U+0048 (category Lu: Letter, uppercase)"
      ]
     },
     "execution_count": 23,
     "metadata": {},
     "output_type": "execute_result"
    }
   ],
   "source": [
    "str[begin]"
   ]
  },
  {
   "cell_type": "code",
   "execution_count": 24,
   "id": "ff60981a",
   "metadata": {},
   "outputs": [
    {
     "data": {
      "text/plain": [
       "\"e Quote\""
      ]
     },
     "execution_count": 24,
     "metadata": {},
     "output_type": "execute_result"
    }
   ],
   "source": [
    "quotes[4:10]"
   ]
  },
  {
   "cell_type": "code",
   "execution_count": 25,
   "id": "9e3b838f",
   "metadata": {},
   "outputs": [
    {
     "data": {
      "text/plain": [
       "'p': ASCII/Unicode U+0070 (category Ll: Letter, lowercase)"
      ]
     },
     "execution_count": 25,
     "metadata": {},
     "output_type": "execute_result"
    }
   ],
   "source": [
    "long_sentence[end]"
   ]
  },
  {
   "cell_type": "code",
   "execution_count": 26,
   "id": "c2620716",
   "metadata": {},
   "outputs": [
    {
     "data": {
      "text/plain": [
       "\"Hello\""
      ]
     },
     "execution_count": 26,
     "metadata": {},
     "output_type": "execute_result"
    }
   ],
   "source": [
    "substr = SubString(str,1,5)"
   ]
  },
  {
   "cell_type": "code",
   "execution_count": 27,
   "id": "2792165a",
   "metadata": {},
   "outputs": [
    {
     "data": {
      "text/plain": [
       "SubString{String}"
      ]
     },
     "execution_count": 27,
     "metadata": {},
     "output_type": "execute_result"
    }
   ],
   "source": [
    "typeof(substr)"
   ]
  },
  {
   "cell_type": "code",
   "execution_count": 28,
   "id": "ae058401",
   "metadata": {},
   "outputs": [
    {
     "data": {
      "text/plain": [
       "1"
      ]
     },
     "execution_count": 28,
     "metadata": {},
     "output_type": "execute_result"
    }
   ],
   "source": [
    "firstindex(substr)"
   ]
  },
  {
   "cell_type": "code",
   "execution_count": 29,
   "id": "520da569",
   "metadata": {},
   "outputs": [
    {
     "data": {
      "text/plain": [
       "43"
      ]
     },
     "execution_count": 29,
     "metadata": {},
     "output_type": "execute_result"
    }
   ],
   "source": [
    "lastindex(long_sentence)"
   ]
  },
  {
   "cell_type": "code",
   "execution_count": 30,
   "id": "5a278a57",
   "metadata": {},
   "outputs": [
    {
     "data": {
      "text/plain": [
       "43"
      ]
     },
     "execution_count": 30,
     "metadata": {},
     "output_type": "execute_result"
    }
   ],
   "source": [
    "length(long_sentence)"
   ]
  },
  {
   "attachments": {},
   "cell_type": "markdown",
   "id": "c6da243e",
   "metadata": {},
   "source": [
    "### Functions\n",
    "A function is an object that maps tuples of argument values to a return value\n",
    "```julia\n",
    "#syntax of defining a function\n",
    "function name_of_fucntion(parameters):\n",
    "    # code goes here\n",
    "end\n",
    "#calling the function with parameters\n",
    "name_of_function(parameters)\n",
    "```"
   ]
  },
  {
   "cell_type": "code",
   "execution_count": 31,
   "id": "8ba9c02a",
   "metadata": {},
   "outputs": [
    {
     "data": {
      "text/plain": [
       "\"a is greater\""
      ]
     },
     "execution_count": 31,
     "metadata": {},
     "output_type": "execute_result"
    }
   ],
   "source": [
    "function max(a,b)\n",
    "    if(a<b)\n",
    "        return \"b is greater\"\n",
    "    else\n",
    "        return \"a is greater\"\n",
    "    end\n",
    "end\n",
    "max(200,30)"
   ]
  },
  {
   "cell_type": "code",
   "execution_count": 32,
   "id": "627d1fac",
   "metadata": {},
   "outputs": [
    {
     "data": {
      "text/plain": [
       "70"
      ]
     },
     "execution_count": 32,
     "metadata": {},
     "output_type": "execute_result"
    }
   ],
   "source": [
    "# Single line function\n",
    "sum(x,y) = x+y\n",
    "sum(25,45)"
   ]
  },
  {
   "cell_type": "code",
   "execution_count": 33,
   "id": "80e4adf1",
   "metadata": {},
   "outputs": [
    {
     "data": {
      "text/plain": [
       "55"
      ]
     },
     "execution_count": 33,
     "metadata": {},
     "output_type": "execute_result"
    }
   ],
   "source": [
    "fib(n::Integer) = n<= 2 ? one(n) : fib(n-1) + fib(n-2)\n",
    "fib(10)"
   ]
  },
  {
   "attachments": {},
   "cell_type": "markdown",
   "id": "81deffa5",
   "metadata": {},
   "source": [
    "`Calculating the hypotenuse of a triangle`<br>\n",
    "    Z = X<sup>2</sup> + Y<sup>2</sup>      \n",
    "        "
   ]
  },
  {
   "cell_type": "code",
   "execution_count": 34,
   "id": "fd2efb0f",
   "metadata": {},
   "outputs": [
    {
     "data": {
      "text/plain": [
       "5.0"
      ]
     },
     "execution_count": 34,
     "metadata": {},
     "output_type": "execute_result"
    }
   ],
   "source": [
    "function hypotenuse(x,y)\n",
    "    x = abs(x)\n",
    "    y = abs(y)\n",
    "    if x > y\n",
    "        r = y/x\n",
    "        return x*sqrt(1+r*r)\n",
    "    end\n",
    "    if y == 0\n",
    "        return zero(x)\n",
    "    end\n",
    "    \n",
    "    r = x/y\n",
    "    return y*sqrt(1+r*r)\n",
    "end\n",
    "hypotenuse(3,4)"
   ]
  },
  {
   "attachments": {},
   "cell_type": "markdown",
   "id": "d7df2502",
   "metadata": {},
   "source": [
    "### Anonymous Functions\n",
    "- This creates a function taking one argument x and returning the value of the polynomial x^2 + 2x - 1\n",
    "at that value.\n",
    "-  The primary use for anonymous functions is passing them to functions which take other functions as arguments."
   ]
  },
  {
   "cell_type": "code",
   "execution_count": 35,
   "id": "756cca51",
   "metadata": {},
   "outputs": [
    {
     "data": {
      "text/plain": [
       "#1 (generic function with 1 method)"
      ]
     },
     "execution_count": 35,
     "metadata": {},
     "output_type": "execute_result"
    }
   ],
   "source": [
    "x -> x^2 + 2x - 1"
   ]
  },
  {
   "cell_type": "code",
   "execution_count": 36,
   "id": "48ffaafc",
   "metadata": {},
   "outputs": [
    {
     "data": {
      "text/plain": [
       "#3 (generic function with 1 method)"
      ]
     },
     "execution_count": 36,
     "metadata": {},
     "output_type": "execute_result"
    }
   ],
   "source": [
    "function(x)\n",
    "    x^2 + 2x - 1\n",
    "end\n"
   ]
  },
  {
   "cell_type": "code",
   "execution_count": 37,
   "id": "bcf4ed19",
   "metadata": {},
   "outputs": [
    {
     "data": {
      "text/plain": [
       "3-element Vector{Float64}:\n",
       "  1.0\n",
       "  6.0\n",
       " 10.0"
      ]
     },
     "execution_count": 37,
     "metadata": {},
     "output_type": "execute_result"
    }
   ],
   "source": [
    "map(round, [1.35,5.6,9.7])"
   ]
  },
  {
   "cell_type": "code",
   "execution_count": 38,
   "id": "2111ff7f",
   "metadata": {},
   "outputs": [
    {
     "data": {
      "text/plain": [
       "3-element Vector{Int64}:\n",
       "   6\n",
       " 186\n",
       "  18"
      ]
     },
     "execution_count": 38,
     "metadata": {},
     "output_type": "execute_result"
    }
   ],
   "source": [
    "map(x -> x^3 + 3x^2 - 4x + 6, [1,5,-2])"
   ]
  },
  {
   "cell_type": "code",
   "execution_count": 39,
   "id": "91e43a87",
   "metadata": {},
   "outputs": [
    {
     "data": {
      "text/plain": [
       "#7 (generic function with 1 method)"
      ]
     },
     "execution_count": 39,
     "metadata": {},
     "output_type": "execute_result"
    }
   ],
   "source": [
    "# Anonymaous function accepting multiple arguments\n",
    "(x,y,z) -> 1/2* (x * y + z)\n"
   ]
  },
  {
   "attachments": {},
   "cell_type": "markdown",
   "id": "193b5ea7",
   "metadata": {},
   "source": [
    "### Tuples\n",
    "1. A tuple is an immutabele, fixed-length container that can hold any values\n",
    "2. Are constructed with () and commas, and can be accessed via indexing"
   ]
  },
  {
   "cell_type": "code",
   "execution_count": 40,
   "id": "e741e0c4",
   "metadata": {},
   "outputs": [
    {
     "data": {
      "text/plain": [
       "'🤕': Unicode U+1F915 (category So: Symbol, other)"
      ]
     },
     "execution_count": 40,
     "metadata": {},
     "output_type": "execute_result"
    }
   ],
   "source": [
    "emoji = ('💀','🤕','👾','👺')\n",
    "emoji[2]"
   ]
  },
  {
   "attachments": {},
   "cell_type": "markdown",
   "id": "219986eb",
   "metadata": {},
   "source": [
    "###  Destructuring Assignment and Multiple Return Values"
   ]
  },
  {
   "cell_type": "code",
   "execution_count": 41,
   "id": "862c28af",
   "metadata": {},
   "outputs": [
    {
     "data": {
      "text/plain": [
       "1:3"
      ]
     },
     "execution_count": 41,
     "metadata": {},
     "output_type": "execute_result"
    }
   ],
   "source": [
    "(a,b,c) = 1:3"
   ]
  },
  {
   "cell_type": "code",
   "execution_count": 42,
   "id": "16d17198",
   "metadata": {},
   "outputs": [
    {
     "name": "stdout",
     "output_type": "stream",
     "text": [
      "1\n",
      "2\n",
      "3\n"
     ]
    }
   ],
   "source": [
    "println(a)\n",
    "println(b)\n",
    "println(c)"
   ]
  },
  {
   "cell_type": "code",
   "execution_count": 43,
   "id": "de7a929a",
   "metadata": {},
   "outputs": [
    {
     "data": {
      "text/plain": [
       "(5, 6)"
      ]
     },
     "execution_count": 43,
     "metadata": {},
     "output_type": "execute_result"
    }
   ],
   "source": [
    "function multipleReturns(a,b)\n",
    "    return a+b, a*b\n",
    "end\n",
    "multipleReturns(2,3)"
   ]
  },
  {
   "cell_type": "code",
   "execution_count": 44,
   "id": "6f82035d",
   "metadata": {},
   "outputs": [
    {
     "name": "stdout",
     "output_type": "stream",
     "text": [
      "5\n",
      "6\n"
     ]
    }
   ],
   "source": [
    "# Destructuring assignment extracts each value into a variable:\n",
    "x,y = multipleReturns(2,3)\n",
    "println(x)\n",
    "println(y)"
   ]
  },
  {
   "cell_type": "code",
   "execution_count": 45,
   "id": "91d3851e",
   "metadata": {},
   "outputs": [
    {
     "name": "stdout",
     "output_type": "stream",
     "text": [
      "6\n",
      "5\n"
     ]
    }
   ],
   "source": [
    "# Another common use is for swapping variables:\n",
    "y,x = x,y\n",
    "println(x)\n",
    "println(y) "
   ]
  },
  {
   "cell_type": "code",
   "execution_count": 46,
   "id": "9c51b7b1",
   "metadata": {},
   "outputs": [
    {
     "name": "stdout",
     "output_type": "stream",
     "text": [
      "1\n",
      "2\n",
      "[3, 5]\n"
     ]
    }
   ],
   "source": [
    "numbers = [1,2,3,5]\n",
    "x,y,z... = numbers\n",
    "println(x)\n",
    "println(y)\n",
    "println(z)\n"
   ]
  },
  {
   "cell_type": "code",
   "execution_count": 48,
   "id": "f1fa4a79",
   "metadata": {},
   "outputs": [
    {
     "name": "stdout",
     "output_type": "stream",
     "text": [
      "Enter a verb (action): Enter an adjective (descriptive word): Enter a noun (person, place or thing): Enter another noun (person, place, thing): Enter a catchphrase (smth like 'hands up 🙋🏽‍♂️'): \n",
      "\n",
      "mikey mikey down the street one night, playing with his qegq ghfvvfb. When all of a / \n",
      "    sudden, a jjjjvjhfvjQ jumped out at him and said VGJQFVJVQJF"
     ]
    }
   ],
   "source": [
    "function madlibz()\n",
    "    print(\"Enter a verb (action): \")\n",
    "    verb1 = readline()\n",
    "\n",
    "    print(\"Enter an adjective (descriptive word): \")\n",
    "    adj1 = readline()\n",
    "\n",
    "    print(\"Enter a noun (person, place or thing): \")\n",
    "    noun1 = readline()\n",
    "\n",
    "    print(\"Enter another noun (person, place, thing): \")\n",
    "    noun2 = readline()\n",
    "\n",
    "    print(\"Enter a catchphrase (smth like 'hands up 🙋🏽‍♂️'): \")\n",
    "    catchphrase = readline()\n",
    "\n",
    "    sentence = \"mikey $verb1 down the street one night, playing with his $adj1 $noun1. When all of a / \n",
    "    sudden, a $noun2 jumped out at him and said $catchphrase\"\n",
    "\n",
    "    print(\"\\n\\n\", sentence)\n",
    "\n",
    "end\n",
    "madlibz()"
   ]
  },
  {
   "cell_type": "code",
   "execution_count": null,
   "id": "a0700827",
   "metadata": {},
   "outputs": [],
   "source": []
  },
  {
   "cell_type": "code",
   "execution_count": null,
   "id": "e85f668e",
   "metadata": {},
   "outputs": [],
   "source": []
  },
  {
   "cell_type": "code",
   "execution_count": null,
   "id": "a18850fb",
   "metadata": {},
   "outputs": [],
   "source": []
  },
  {
   "cell_type": "code",
   "execution_count": null,
   "id": "c32389a4",
   "metadata": {},
   "outputs": [],
   "source": []
  },
  {
   "cell_type": "code",
   "execution_count": null,
   "id": "f0cc0f1f",
   "metadata": {},
   "outputs": [],
   "source": []
  },
  {
   "cell_type": "code",
   "execution_count": null,
   "id": "669a7236",
   "metadata": {},
   "outputs": [],
   "source": []
  }
 ],
 "metadata": {
  "kernelspec": {
   "display_name": "Julia 1.8.2",
   "language": "julia",
   "name": "julia-1.8"
  },
  "language_info": {
   "file_extension": ".jl",
   "mimetype": "application/julia",
   "name": "julia",
   "version": "1.8.2"
  }
 },
 "nbformat": 4,
 "nbformat_minor": 5
}
